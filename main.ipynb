{
 "cells": [
  {
   "cell_type": "markdown",
   "metadata": {},
   "source": [
    "##  Whale Moves Indicator\n",
    "\n",
    "Custom trading indicator for Bitcoin Whale Moves detection using data from Cryptomon API (https://api.cryptomon.io/swagger-ui.html).\n",
    "\n",
    "### What is a Bitcoin Whale?\n",
    "\n",
    "The term “whale” is frequently used to describe the big money Bitcoin players that show their hand in the Bitcoin market.\n",
    "  \n",
    "### API Credentials\n",
    "\n",
    "To obtain API credentials, follow these instructions:\n",
    "1. Create new Premium Account: https://cryptomon.io/create-account\n",
    "2. API credentials under Account information: https://cryptomon.io/account#api\n"
   ]
  },
  {
   "cell_type": "markdown",
   "metadata": {},
   "source": [
    "### Run Python code\n",
    "\n",
    "To run the code below:\n",
    "\n",
    "1. Click on the cell to select it.\n",
    "2. Press `SHIFT+ENTER` on your keyboard or press the play button (<button class='fa fa-play icon-play btn btn-xs btn-default'></button>) in the toolbar above.\n",
    "\n",
    "A full tutorial for using the notebook interface is available [here](ipython_examples/Notebook/Index.ipynb).\n"
   ]
  },
  {
   "cell_type": "code",
   "execution_count": null,
   "metadata": {
    "collapsed": false
   },
   "outputs": [],
   "source": [
    "%env TZ=UTC\n",
    "# %env TZ=Europe/Bratislava\n",
    "\n",
    "import sys\n",
    "sys.path.append(\"../API_Client/\") \n",
    "\n",
    "from ApiClient import ApiClient\n",
    "\n",
    "import Utils\n",
    "from Utils import plot_trade_data, start_time, end_time, process_data\n",
    "\n",
    "print(\"\\n\")\n",
    "print('Whale Moves Indicator\\n')\n",
    "print(\"\\n\")\n",
    "print(\"      ':'                \")\n",
    "print(\"    ___:____     |'\\/'|  \")\n",
    "print(\"  ,'        `.    \\  /   \")\n",
    "print(\"  |  O        \\___/  |   \")\n",
    "print(\"~^~^~^~^~^~^~^~^~^~^~^~^~\")\n",
    "print(\"\\n\")\n",
    "\n",
    "# Cryptomon API credentials\n",
    "CLIENT_ID = \"<API_CLIENT_ID>\"\n",
    "CLIENT_SECRET = \"<API_CLIENT_SECRET>\"\n",
    "\n",
    "c = ApiClient(CLIENT_ID, CLIENT_SECRET)\n",
    "c.request_access()\n",
    "\n",
    "params = {\n",
    "    \"market\" : \"BITSTAMP\",\n",
    "    \"currencyPair\" : \"BTC_USD\",\n",
    "    \"timestampFrom\" : start_time(1),\n",
    "    \"timestampTo\" : end_time()\n",
    "}\n",
    "rows = c.get(\"https://api.cryptomon.io/api/v1/trades\", params)\n",
    "# print(\"rows: {}\".format(rows))\n",
    "\n",
    "plot_trade_data(process_data(rows))\n"
   ]
  },
  {
   "cell_type": "code",
   "execution_count": null,
   "metadata": {
    "collapsed": false
   },
   "outputs": [],
   "source": [
    "# Let's convert this notebook to a README for the GitHub project's title page:\n",
    "!jupyter nbconvert --to markdown main.ipynb\n",
    "!mv main.md README.md"
   ]
  }
 ],
 "metadata": {
  "kernelspec": {
   "display_name": "Python 3",
   "language": "python",
   "name": "python3"
  },
  "language_info": {
   "codemirror_mode": {
    "name": "ipython",
    "version": 3
   },
   "file_extension": ".py",
   "mimetype": "text/x-python",
   "name": "python",
   "nbconvert_exporter": "python",
   "pygments_lexer": "ipython3",
   "version": "3.4.5"
  }
 },
 "nbformat": 4,
 "nbformat_minor": 2
}
